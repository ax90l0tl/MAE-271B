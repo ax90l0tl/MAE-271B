{
 "cells": [
  {
   "cell_type": "code",
   "execution_count": 5,
   "metadata": {},
   "outputs": [],
   "source": [
    "import numpy as np\n",
    "import matplotlib.pyplot as plt"
   ]
  },
  {
   "cell_type": "code",
   "execution_count": null,
   "metadata": {},
   "outputs": [],
   "source": [
    "# Constants\n",
    "\n",
    "V_c = 300 # ft/s\n",
    "R_1 = 15*10e-6 # rad^2/s\n",
    "R_2 = 1.67*10e-3 # rad^2/s^3\n",
    "t_f = 10 # s\n",
    "tau = 2.0 # s\n",
    "E_a_T_2 = 100**2 # (ft/sec^2)^2\n",
    "P = np.array([[0, 0, 0],\n",
    "              [0, 200**2, 0],\n",
    "              [0, 0, E_a_T_2]])\n",
    "\n",
    "W = np.array([[0, 0, 0],\n",
    "              [0, 0, 0],\n",
    "              [0, 0, E_a_T_2]])\n",
    "\n",
    "a_p = 0\n",
    "\n",
    "F = np.array([[0, 1, 0],\n",
    "              [0, 0, -1],\n",
    "              [0, 0, -1/tau]])\n",
    "\n",
    "B = np.array([0, 1, 0]).T\n",
    "\n",
    "G = np.array([0, 0, 1]).T\n",
    "\n",
    "H_ = np.array([1, 0, 0])\n"
   ]
  },
  {
   "cell_type": "code",
   "execution_count": 10,
   "metadata": {},
   "outputs": [],
   "source": [
    "def theta(y, V_c, t_f, t):\n",
    "    return y/(V_c*(t_f - t))\n",
    "\n",
    "def Covariance_Prop(F, P, V_c, R_1, R_2, t_f, t, H, W):\n",
    "    c = (V_c**2)*R_1*((t_f - t)**2) + (V_c**2)*R_2\n",
    "    return F*P + P*F.T - (1/c)*P*H.T*H*P+W\n",
    "\n",
    "def kalman_gains(P, V_c, R_1, R_2, t_f, t):\n",
    "    c = V_c*R_1*(t_f - t)+V_c*R_2/(t_f - t)\n",
    "    k1 = P[0, 0]/c\n",
    "    k2 = P[0, 1]/c\n",
    "    k3 = P[0, 2]/c\n",
    "    return k1, k2, k3"
   ]
  }
 ],
 "metadata": {
  "kernelspec": {
   "display_name": "env",
   "language": "python",
   "name": "python3"
  },
  "language_info": {
   "codemirror_mode": {
    "name": "ipython",
    "version": 3
   },
   "file_extension": ".py",
   "mimetype": "text/x-python",
   "name": "python",
   "nbconvert_exporter": "python",
   "pygments_lexer": "ipython3",
   "version": "3.10.12"
  }
 },
 "nbformat": 4,
 "nbformat_minor": 2
}
